{
 "cells": [
  {
   "cell_type": "markdown",
   "id": "cb2ca90c",
   "metadata": {},
   "source": [
    "# Data Science Tools and Ecosystem"
   ]
  },
  {
   "cell_type": "markdown",
   "id": "ea6e4d6a",
   "metadata": {},
   "source": [
    "In this notebook, Data Science Tools and Ecosytem are summarized."
   ]
  },
  {
   "cell_type": "markdown",
   "id": "fcaba149",
   "metadata": {},
   "source": [
    "#### Objectives:\n",
    "* List popular languages for Data Science \n",
    "* List commonly used librares used by Data Scientists\n",
    "* Table of Data Science tools \n",
    "* Arithmetic expression examples"
   ]
  },
  {
   "cell_type": "markdown",
   "id": "60561fbb",
   "metadata": {},
   "source": [
    "Some of the popular languages that Data Scientists use are: \n",
    "1. Python\n",
    "2. R \n",
    "3. SQL\n",
    "4. Java \n",
    "5. Scala \n",
    "5. C++\n",
    "6. Javascript\n",
    "7. Julia"
   ]
  },
  {
   "cell_type": "markdown",
   "id": "cb766255",
   "metadata": {},
   "source": [
    "Some of the commonly used libraries used by Data Scientists include:\n",
    "1. Pandas \n",
    "2. Numpy\n",
    "3. Matplotlib\n",
    "4. TensorFlow\n",
    "5. ApacheSpark\n",
    "6. ggplot2"
   ]
  },
  {
   "cell_type": "markdown",
   "id": "aef75c3f",
   "metadata": {},
   "source": [
    " |Data Science Tools|\n",
    " |------------------|\n",
    " |JupyterLab|\n",
    " |Anaconda|\n",
    " |VS Code|"
   ]
  },
  {
   "cell_type": "markdown",
   "id": "3f026d71",
   "metadata": {},
   "source": [
    "### Below are a few examples of evaluating arithemtic expression in Python"
   ]
  },
  {
   "cell_type": "code",
   "execution_count": 7,
   "id": "61a6618f",
   "metadata": {},
   "outputs": [
    {
     "data": {
      "text/plain": [
       "17"
      ]
     },
     "execution_count": 7,
     "metadata": {},
     "output_type": "execute_result"
    }
   ],
   "source": [
    "# This is a simple arithmetic expression to multiply then add integers\n",
    "\n",
    "(3*4)+5"
   ]
  },
  {
   "cell_type": "code",
   "execution_count": 8,
   "id": "5a9e48c7",
   "metadata": {},
   "outputs": [
    {
     "data": {
      "text/plain": [
       "3.3333333333333335"
      ]
     },
     "execution_count": 8,
     "metadata": {},
     "output_type": "execute_result"
    }
   ],
   "source": [
    "# This will convert 200 minutes to hours by dividing by 60\n",
    "\n",
    "200/60"
   ]
  },
  {
   "cell_type": "markdown",
   "id": "d383c575",
   "metadata": {},
   "source": [
    "## Author\n",
    "Joris Beci"
   ]
  },
  {
   "cell_type": "code",
   "execution_count": null,
   "id": "7af627b2",
   "metadata": {},
   "outputs": [],
   "source": []
  }
 ],
 "metadata": {
  "kernelspec": {
   "display_name": "Python 3 (ipykernel)",
   "language": "python",
   "name": "python3"
  },
  "language_info": {
   "codemirror_mode": {
    "name": "ipython",
    "version": 3
   },
   "file_extension": ".py",
   "mimetype": "text/x-python",
   "name": "python",
   "nbconvert_exporter": "python",
   "pygments_lexer": "ipython3",
   "version": "3.8.2"
  }
 },
 "nbformat": 4,
 "nbformat_minor": 5
}
